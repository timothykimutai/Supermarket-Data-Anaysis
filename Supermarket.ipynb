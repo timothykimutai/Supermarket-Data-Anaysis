{
 "cells": [
  {
   "cell_type": "code",
   "execution_count": 7,
   "metadata": {},
   "outputs": [],
   "source": [
    "import pandas as pd\n"
   ]
  },
  {
   "cell_type": "code",
   "execution_count": 1,
   "metadata": {},
   "outputs": [],
   "source": [
    "import sqlalchemy"
   ]
  },
  {
   "cell_type": "code",
   "execution_count": 8,
   "metadata": {},
   "outputs": [],
   "source": [
    "df = pd.read_csv('SuperMarket.csv')"
   ]
  },
  {
   "cell_type": "code",
   "execution_count": 9,
   "metadata": {},
   "outputs": [
    {
     "data": {
      "text/plain": [
       "Branch                     0\n",
       "City                       0\n",
       "Gender                     0\n",
       "Product_line               0\n",
       "Unit_price                 0\n",
       "Tax_5                      0\n",
       "Sales                      0\n",
       "Date                       0\n",
       "cogs                       0\n",
       "gross_margin_percentage    0\n",
       "gross_income               0\n",
       "Rating                     0\n",
       "dtype: int64"
      ]
     },
     "execution_count": 9,
     "metadata": {},
     "output_type": "execute_result"
    }
   ],
   "source": [
    "df.isnull().sum()"
   ]
  },
  {
   "cell_type": "code",
   "execution_count": 10,
   "metadata": {},
   "outputs": [
    {
     "data": {
      "text/plain": [
       "Branch                      object\n",
       "City                        object\n",
       "Gender                      object\n",
       "Product_line                object\n",
       "Unit_price                 float64\n",
       "Tax_5                      float64\n",
       "Sales                      float64\n",
       "Date                        object\n",
       "cogs                       float64\n",
       "gross_margin_percentage    float64\n",
       "gross_income               float64\n",
       "Rating                     float64\n",
       "dtype: object"
      ]
     },
     "execution_count": 10,
     "metadata": {},
     "output_type": "execute_result"
    }
   ],
   "source": [
    "df.dtypes"
   ]
  },
  {
   "cell_type": "code",
   "execution_count": 11,
   "metadata": {},
   "outputs": [],
   "source": [
    "df['Date'] = pd.to_datetime(df['Date'])"
   ]
  },
  {
   "cell_type": "code",
   "execution_count": 12,
   "metadata": {},
   "outputs": [
    {
     "data": {
      "text/plain": [
       "Branch                             object\n",
       "City                               object\n",
       "Gender                             object\n",
       "Product_line                       object\n",
       "Unit_price                        float64\n",
       "Tax_5                             float64\n",
       "Sales                             float64\n",
       "Date                       datetime64[ns]\n",
       "cogs                              float64\n",
       "gross_margin_percentage           float64\n",
       "gross_income                      float64\n",
       "Rating                            float64\n",
       "dtype: object"
      ]
     },
     "execution_count": 12,
     "metadata": {},
     "output_type": "execute_result"
    }
   ],
   "source": [
    "df.dtypes"
   ]
  },
  {
   "cell_type": "code",
   "execution_count": 13,
   "metadata": {},
   "outputs": [],
   "source": [
    "# Extract year and month from Date\n",
    "df['year'] = df['Date'].dt.year\n",
    "df['month'] = df['Date'].dt.month\n"
   ]
  },
  {
   "cell_type": "code",
   "execution_count": 14,
   "metadata": {},
   "outputs": [],
   "source": [
    "# Monthly Sales by Branch\n",
    "monthly_sales_branch = df.groupby(['Branch', 'year', 'month'])['Sales'].sum().reset_index()"
   ]
  },
  {
   "cell_type": "code",
   "execution_count": 15,
   "metadata": {},
   "outputs": [],
   "source": [
    "# Average Rating by Product Line\n",
    "avg_rating_product_line = df.groupby('Product_line')['Rating'].mean().reset_index()"
   ]
  },
  {
   "cell_type": "code",
   "execution_count": 16,
   "metadata": {},
   "outputs": [],
   "source": [
    "# Gross Income by City and Gender\n",
    "gross_income_city_gender = df.groupby(['City', 'Gender'])['gross_income'].sum().reset_index()\n"
   ]
  },
  {
   "cell_type": "code",
   "execution_count": 17,
   "metadata": {},
   "outputs": [],
   "source": [
    "# Average Gross Margin by Product Line\n",
    "gross_margin_product_line = df.groupby('Product_line')['gross_margin_percentage'].mean().reset_index()\n"
   ]
  },
  {
   "cell_type": "code",
   "execution_count": 18,
   "metadata": {},
   "outputs": [],
   "source": [
    "monthly_sales_branch.to_csv('monthly_sales_branch.csv', index=False)\n",
    "avg_rating_product_line.to_csv('avg_rating_product_line.csv', index=False)\n",
    "gross_income_city_gender.to_csv('gross_income_city_gender.csv', index=False)\n",
    "gross_margin_product_line.to_csv('gross_margin_product_line.csv', index=False)\n"
   ]
  }
 ],
 "metadata": {
  "kernelspec": {
   "display_name": "Python 3",
   "language": "python",
   "name": "python3"
  },
  "language_info": {
   "codemirror_mode": {
    "name": "ipython",
    "version": 3
   },
   "file_extension": ".py",
   "mimetype": "text/x-python",
   "name": "python",
   "nbconvert_exporter": "python",
   "pygments_lexer": "ipython3",
   "version": "3.12.0"
  }
 },
 "nbformat": 4,
 "nbformat_minor": 2
}
